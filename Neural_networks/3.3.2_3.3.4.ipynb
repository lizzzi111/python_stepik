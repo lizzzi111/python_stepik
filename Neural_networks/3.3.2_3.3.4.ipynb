{
 "cells": [
  {
   "cell_type": "markdown",
   "metadata": {},
   "source": [
    "# Simple numpy neural network"
   ]
  },
  {
   "cell_type": "markdown",
   "metadata": {},
   "source": [
    "Stepik neural networks steps 3.3.2 - 3.3.4"
   ]
  },
  {
   "cell_type": "markdown",
   "metadata": {},
   "source": [
    "The weights in the example are already given, therefore we do not need addionally initialize them "
   ]
  },
  {
   "cell_type": "code",
   "execution_count": 1,
   "metadata": {},
   "outputs": [],
   "source": [
    "import numpy as np"
   ]
  },
  {
   "cell_type": "code",
   "execution_count": 76,
   "metadata": {},
   "outputs": [],
   "source": [
    "class NeuronNetwork:\n",
    "    def __init__(self, weights):\n",
    "        self.weights = weights\n",
    "        self.activation_values = []\n",
    "\n",
    "    def sigmoid(self, x):\n",
    "        return 1 / (1 + np.exp(-x))\n",
    "\n",
    "    def sigmoid_derivative(self, activation_value):\n",
    "        return activation_value * (1 - activation_value)\n",
    "\n",
    "    def predict(self, a):\n",
    "        for i in range(len(self.weights)):\n",
    "            z = self.weights[i].T.dot(a)\n",
    "            a = self.sigmoid(z)\n",
    "            self.activation_values.append(a)\n",
    "        return a\n",
    "\n",
    "    def J_quadratic(self, X, y):\n",
    "        assert y.shape[1] == 1, 'Incorrect y shape'\n",
    "\n",
    "        return 0.5 * np.mean((self.predict(X) - y) ** 2)\n",
    "\n",
    "    def grad(self, y_hat, y):\n",
    "        assert y_hat.shape == y.shape and y_hat.shape[1] == 1, 'Incorrect shapes'\n",
    "\n",
    "        return y_hat - y\n",
    "\n",
    "    def train(self, X, y):\n",
    "        a_L = self.predict(X)\n",
    "        nabla_j = self.grad(a_L, y)\n",
    "        #print(nabla_j)\n",
    "        delta_l = nabla_j * self.sigmoid_derivative(a_L)\n",
    "        print(a_L)\n",
    "\n",
    "        for i in range(len(self.activation_values) - 2, -1, -1):\n",
    "            delta_l = self.weights[i+1].dot(delta_l)\n",
    "            delta_l = delta_l * self.sigmoid_derivative(self.activation_values[i])\n",
    "            print(delta_l)\n"
   ]
  },
  {
   "cell_type": "markdown",
   "metadata": {},
   "source": [
    "### 3.3.2"
   ]
  },
  {
   "cell_type": "code",
   "execution_count": 77,
   "metadata": {},
   "outputs": [
    {
     "name": "stdout",
     "output_type": "stream",
     "text": [
      "[[ 0.88027688]]\n",
      "[[ -3.11213266e-05]\n",
      " [ -3.11213266e-05]]\n"
     ]
    }
   ],
   "source": [
    "weights = [\n",
    "    np.array([[2, 2], [2, 2], [2, 2]]),\n",
    "    np.array([[1], [1]])\n",
    "]\n",
    "\n",
    "network = NeuronNetwork(weights)\n",
    "res = network.train(np.array([[0], [1], [2]]), np.array([[1]]))"
   ]
  },
  {
   "cell_type": "markdown",
   "metadata": {},
   "source": [
    "### 3.3.3"
   ]
  },
  {
   "cell_type": "code",
   "execution_count": 78,
   "metadata": {},
   "outputs": [
    {
     "name": "stdout",
     "output_type": "stream",
     "text": [
      "[[ 0.99999999]]\n",
      "[[ -3.22134047e-26]\n",
      " [ -1.95348927e-28]]\n"
     ]
    }
   ],
   "source": [
    "weights = [\n",
    "    np.array([[8, 10], [7, 10], [8, 9]]),\n",
    "    np.array([[10], [9]])\n",
    "]\n",
    "\n",
    "network = NeuronNetwork(weights)\n",
    "res = network.train(np.array([[0], [1], [2]]), np.array([[1]]))"
   ]
  },
  {
   "cell_type": "markdown",
   "metadata": {},
   "source": [
    "### 3.3.4"
   ]
  },
  {
   "cell_type": "code",
   "execution_count": 79,
   "metadata": {},
   "outputs": [
    {
     "name": "stdout",
     "output_type": "stream",
     "text": [
      "[[ 0.66818774]]\n",
      "[[ -1.00427894e-09]\n",
      " [ -1.12521595e-08]]\n"
     ]
    }
   ],
   "source": [
    "weights = [\n",
    "    np.array([[0.2, 0.2], [0.9, 0.3], [0.6, 0.7]]),\n",
    "    np.array([[0.2], [0.5]])\n",
    "]\n",
    "\n",
    "network = NeuronNetwork(weights)\n",
    "res = network.train(np.array([[15], [5], [15]]), np.array([[1]]))"
   ]
  },
  {
   "cell_type": "code",
   "execution_count": null,
   "metadata": {},
   "outputs": [],
   "source": []
  }
 ],
 "metadata": {
  "kernelspec": {
   "display_name": "Python 3",
   "language": "python",
   "name": "python3"
  },
  "language_info": {
   "codemirror_mode": {
    "name": "ipython",
    "version": 3
   },
   "file_extension": ".py",
   "mimetype": "text/x-python",
   "name": "python",
   "nbconvert_exporter": "python",
   "pygments_lexer": "ipython3",
   "version": "3.6.6"
  }
 },
 "nbformat": 4,
 "nbformat_minor": 2
}
