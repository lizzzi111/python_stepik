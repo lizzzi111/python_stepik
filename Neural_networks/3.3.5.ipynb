{
 "cells": [
  {
   "cell_type": "markdown",
   "metadata": {},
   "source": [
    "# Simple numpy neural network"
   ]
  },
  {
   "cell_type": "markdown",
   "metadata": {},
   "source": [
    "Stepik neural networks step 3.3.5"
   ]
  },
  {
   "cell_type": "markdown",
   "metadata": {},
   "source": [
    "The weights in the example are already given, therefore we do not need addionally initialize them "
   ]
  },
  {
   "cell_type": "code",
   "execution_count": 6,
   "metadata": {},
   "outputs": [],
   "source": [
    "import numpy as np\n",
    "import pdb"
   ]
  },
  {
   "cell_type": "code",
   "execution_count": 14,
   "metadata": {},
   "outputs": [
    {
     "name": "stdout",
     "output_type": "stream",
     "text": [
      "[-0.01829328 -0.00751855]\n"
     ]
    }
   ],
   "source": [
    "def sigmoid(x):\n",
    "    \"\"\"сигмоидальная функция, работает и с числами, и с векторами (поэлементно)\"\"\"\n",
    "    return 1 / (1 + np.exp(-x))\n",
    "\n",
    "def sigmoid_prime(x):\n",
    "    \"\"\"производная сигмоидальной функции, работает и с числами, и с векторами (поэлементно)\"\"\"\n",
    "    return sigmoid(x) * (1 - sigmoid(x))\n",
    "\n",
    "def sigma_grad(z, y):\n",
    "    return (sigmoid(z) - y) * sigmoid_prime(z)\n",
    "\n",
    "A1 = np.array([0,1,1])\n",
    "W2 = np.array([[0.7, 0.2, 0.7], [0.8, 0.3, 0.6]])\n",
    "W3 = np.array([0.2, 0.4])\n",
    "\n",
    "Z2 = np.dot(A1, W2.T)\n",
    "A2 = sigmoid(Z2)\n",
    "A2[0] = max(Z2[0], 0)\n",
    "Z3 = np.dot(A2, W3.T)\n",
    "A4 = sigmoid(Z3)\n",
    "\n",
    "D3 = sigma_grad(Z3, 1)\n",
    "D2=np.dot(W3.T,D3)\n",
    "D2[1] *= sigmoid_prime(Z2[1])\n",
    "\n",
    "ws = A1[2] * D2\n",
    "print(ws)"
   ]
  }
 ],
 "metadata": {
  "kernelspec": {
   "display_name": "Python 3",
   "language": "python",
   "name": "python3"
  },
  "language_info": {
   "codemirror_mode": {
    "name": "ipython",
    "version": 3
   },
   "file_extension": ".py",
   "mimetype": "text/x-python",
   "name": "python",
   "nbconvert_exporter": "python",
   "pygments_lexer": "ipython3",
   "version": "3.6.6"
  }
 },
 "nbformat": 4,
 "nbformat_minor": 2
}
