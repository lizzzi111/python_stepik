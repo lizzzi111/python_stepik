{
 "cells": [
  {
   "cell_type": "code",
   "execution_count": null,
   "metadata": {},
   "outputs": [],
   "source": [
    "import numpy as np\n",
    "def get_error(deltas, sums, weights):\n",
    "    \"\"\"\n",
    "    compute error on the previous layer of network\n",
    "    deltas - ndarray of shape (n, n_{l+1})\n",
    "    sums - ndarray of shape (n, n_l)\n",
    "    weights - ndarray of shape (n_{l+1}, n_l)\n",
    "    \"\"\"\n",
    "    return (deltas.dot(weights)*sigmoid_prime(sums)).mean(axis=0).T "
   ]
  }
 ],
 "metadata": {
  "kernelspec": {
   "display_name": "Python 3",
   "language": "python",
   "name": "python3"
  },
  "language_info": {
   "codemirror_mode": {
    "name": "ipython",
    "version": 3
   },
   "file_extension": ".py",
   "mimetype": "text/x-python",
   "name": "python",
   "nbconvert_exporter": "python",
   "pygments_lexer": "ipython3",
   "version": "3.6.1"
  }
 },
 "nbformat": 4,
 "nbformat_minor": 2
}
